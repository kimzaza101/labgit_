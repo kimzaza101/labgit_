{
  "cells": [
    {
      "cell_type": "markdown",
      "metadata": {
        "id": "sTqkX6NXF8tV"
      },
      "source": [
        "# Part 1: Understanding the Procedural Code\n",
        "What is the limitations of using global variables and the benefits of OOP in the previous bank account code program?"
      ]
    },
    {
      "cell_type": "code",
      "execution_count": 9,
      "metadata": {
        "id": "XfiORNqzFwOT"
      },
      "outputs": [],
      "source": [
        "#ถ้าต้องการสร้างบัญชีใหม่ต้องมีการเพิ่มตัวแปรเข้าไป ทำให้โค้ดมีความซับซ้อนมากขึ้น มีการแกเ้ไขโตัวแปร global ที่มีอยู่แล้ว"
      ]
    },
    {
      "cell_type": "markdown",
      "metadata": {
        "id": "xiwa51WxGNP1"
      },
      "source": [
        "# Part 2: Designing the BankAccount Class\n",
        "\n",
        "Task: Refactor and create a `BankAccount` class with the following:\n",
        "\n",
        "\n",
        "*   Attributes: `account_name, account_balance, account_password`\n",
        "*   Methods:\n",
        "    *   `__init__` to initialize account details.\n",
        "    *   `deposit` to add money.\n",
        "    *   `withdraw` to remove money if the password matches.\n",
        "    *   `show_details` to display account information.\n",
        "    *   add method `receive` to receive money from other accounts without giving password.\n",
        "\n",
        "\n",
        "\n"
      ]
    },
    {
      "cell_type": "code",
      "execution_count": null,
      "metadata": {},
      "outputs": [],
      "source": []
    },
    {
      "cell_type": "code",
      "execution_count": 10,
      "metadata": {
        "id": "FKS6lCu9HALu"
      },
      "outputs": [],
      "source": [
        "class bankAccount:\n",
        "    def __init__(self,account_name, account_balance, account_password):\n",
        "        self.name = account_name\n",
        "        self.balance = account_balance\n",
        "        self.password = account_password\n",
        "\n",
        "    def show_details(self):\n",
        "        print(\"Name: \", self.name)\n",
        "        print(\"Balance: \", self.balance)\n",
        "        print(\"________________________________________________________________________________________\",\"\\n\")\n",
        "\n",
        "    def deposit(self, amount):\n",
        "        self.balance += amount\n",
        "        print(\"Deposit Successful\")\n",
        "        print(\"New Balance: \", self.balance)\n",
        "        print(\"________________________________________________________________________________________\",\"\\n\")\n",
        "\n",
        "    def withdraw(self, amount, password):\n",
        "        if password == self.password:\n",
        "            self.balance -= amount\n",
        "            print(\"Withdraw Successful\")\n",
        "            print(\"balance after withdraw: \", self.balance)\n",
        "            print(\"________________________________________________________________________________________\",\"\\n\")\n",
        "        else:\n",
        "            print(\"Password Incorrect\")\n",
        "            print(\"________________________________________________________________________________________\",\"\\n\")\n",
        "    \n",
        "    def receive(self, amount):\n",
        "        \n",
        "        self.balance += amount\n",
        "        print(\"Receive Successful\")\n",
        "        print(\"New Balance: \", self.balance)\n",
        "        print(\"________________________________________________________________________________________\",\"\\n\")\n",
        "        "
      ]
    },
    {
      "cell_type": "markdown",
      "metadata": {
        "id": "FrKpCnOcHYmr"
      },
      "source": [
        "# Part 3: Implementing the Bank Class\n",
        "\n",
        "Task: Create a `Bank` class to manage multiple accounts using BankAccount objects:\n",
        "\n",
        "\n",
        "*   Attributes: A list `accounts`  to store accounts.\n",
        "*   Methods:\n",
        "      *   `add_account`: Create and add a new BankAccount.\n",
        "\n",
        "            Parameters: `account_name`, `initial_balance`, `password`\n",
        "\n",
        "      *   `get_account`: Retrieve an account by name\n",
        "\n",
        "            Parameters: `account_name`\n",
        "            \n",
        "      *   `transfer`: Move money between two accounts\n",
        "            Parameters: `from_account_name`, `to_account_name`, `amount`, `password`\n",
        "      *   `bank_summary`: Display a summary of all accounts.\n",
        "\n",
        "Challenge: Use dictionary instead of list `accounts` to store accounts by name.\n",
        "\n",
        "\n"
      ]
    },
    {
      "cell_type": "code",
      "execution_count": 11,
      "metadata": {
        "id": "eJcbDSVQKopH"
      },
      "outputs": [],
      "source": [
        "class Bank:\n",
        "    def __init__(self):\n",
        "        self.accounts = []\n",
        "\n",
        "    def Add_Account(self,account):\n",
        "        self.accounts.append(account)\n",
        "        print(\"Account added\")\n",
        "\n",
        "    def Get_Account(salf, name):\n",
        "        for account in salf.accounts:\n",
        "            if account.name == name:\n",
        "                return account\n",
        "        return None\n",
        "        \n",
        "    \n",
        "    def transferMoney(self, from_account_name, to_account_name, amount, password):\n",
        "        from_account_name = self.Get_Account(from_account_name)\n",
        "        to_account_name = self.Get_Account(to_account_name)\n",
        "        if from_account_name != None and to_account_name != None:\n",
        "            from_account_name.withdraw(amount, password)\n",
        "            to_account_name.receive(amount)\n",
        "            print(\"Transfer Successful\")\n",
        "            print(\"________________________________________________________________________________________\",\"\\n\")\n",
        "        else:\n",
        "            print(\"Account not found\")\n",
        "            print(\"________________________________________________________________________________________\",\"\\n\")\n",
        "    \n",
        "    def bank_summary(self):\n",
        "        for account in self.accounts:\n",
        "            account.show_details()\n",
        "    \n",
        "        "
      ]
    },
    {
      "cell_type": "code",
      "execution_count": 12,
      "metadata": {},
      "outputs": [
        {
          "name": "stdout",
          "output_type": "stream",
          "text": [
            "Account added\n",
            "Account added\n",
            "Account added\n"
          ]
        }
      ],
      "source": [
        "account1 = bankAccount(\"John\", 0, \"1234\")\n",
        "account2 = bankAccount(\"Jane\", 0, \"1234\")\n",
        "account3 = bankAccount(\"Bob\", 0, \"1234\")\n",
        "\n",
        "bank = Bank()\n",
        "\n",
        "bank.Add_Account(account1)\n",
        "bank.Add_Account(account2)\n",
        "bank.Add_Account(account3)"
      ]
    },
    {
      "cell_type": "markdown",
      "metadata": {
        "id": "sLFgwjOLKpJm"
      },
      "source": [
        "# Part 4: Integration and Testing\n",
        "In this part, you will integrate the Bank and BankAccount classes by simulating real-world scenarios to test their implementation. The scenarios include creating accounts, depositing and withdrawing money, transferring funds, and generating a bank summary.\n",
        "\n"
      ]
    },
    {
      "cell_type": "markdown",
      "metadata": {
        "id": "iPunjcwGOXcV"
      },
      "source": [
        "Scenario 1: Bank Setup and Account Creation\n",
        "\n",
        "Task: Create a Bank object and add three accounts:\n",
        "\n",
        "1.   John Doe with an initial deposit of 1000.\n",
        "2.   Jane Smith with an initial deposit of 2000.\n",
        "3. Bob Johnson with an initial deposit of 500.\n",
        "\n"
      ]
    },
    {
      "cell_type": "code",
      "execution_count": 13,
      "metadata": {
        "id": "7Xz8vHvXPm7h"
      },
      "outputs": [
        {
          "name": "stdout",
          "output_type": "stream",
          "text": [
            "Deposit Successful\n",
            "New Balance:  1000\n",
            "________________________________________________________________________________________ \n",
            "\n",
            "Deposit Successful\n",
            "New Balance:  2000\n",
            "________________________________________________________________________________________ \n",
            "\n",
            "Deposit Successful\n",
            "New Balance:  500\n",
            "________________________________________________________________________________________ \n",
            "\n"
          ]
        }
      ],
      "source": [
        "account1.deposit(1000)\n",
        "account2.deposit(2000)\n",
        "account3.deposit(500)\n",
        "\n"
      ]
    },
    {
      "cell_type": "markdown",
      "metadata": {
        "id": "tOMPVa94Poj3"
      },
      "source": [
        "Scenario 2: Depositing Money\n",
        "\n",
        "Task: John Doe receives his salary of $2000. Deposit this amount into his account."
      ]
    },
    {
      "cell_type": "code",
      "execution_count": 14,
      "metadata": {
        "id": "O2Ocn03bPxRU"
      },
      "outputs": [
        {
          "name": "stdout",
          "output_type": "stream",
          "text": [
            "Receive Successful\n",
            "New Balance:  2500\n",
            "________________________________________________________________________________________ \n",
            "\n"
          ]
        }
      ],
      "source": [
        "account3.receive(2000)\n"
      ]
    },
    {
      "cell_type": "markdown",
      "metadata": {
        "id": "edMgEfFrPzYj"
      },
      "source": [
        "Scenario 3: Withdrawing Money\n",
        "\n",
        "\n",
        "Task:\n",
        "1.   Jane Smith withdraws 500 for shopping.\n",
        "2.   Bob Johnson tries to withdraw 600 (exceeding his balance).\n"
      ]
    },
    {
      "cell_type": "code",
      "execution_count": 15,
      "metadata": {
        "id": "LaBSoesBPyT7"
      },
      "outputs": [
        {
          "name": "stdout",
          "output_type": "stream",
          "text": [
            "Withdraw Successful\n",
            "balance after withdraw:  1500\n",
            "________________________________________________________________________________________ \n",
            "\n",
            "Withdraw Successful\n",
            "balance after withdraw:  1900\n",
            "________________________________________________________________________________________ \n",
            "\n"
          ]
        }
      ],
      "source": [
        "account2.withdraw(500, \"1234\")\n",
        "account3.withdraw(600, \"1234\")"
      ]
    },
    {
      "cell_type": "markdown",
      "metadata": {
        "id": "5ysmZx9vQFMj"
      },
      "source": [
        "Scenario 4: Transferring Money\n",
        "\n",
        "\n",
        "Task:\n",
        "1. John Doe transfers 1000 to Jane Smith for a joint project.\n",
        "2. Bob Johnson transfers 200 to John Doe.\n",
        "3. Show summary of all bank accounts"
      ]
    },
    {
      "cell_type": "code",
      "execution_count": 16,
      "metadata": {
        "id": "1P6TOftBQDh0"
      },
      "outputs": [
        {
          "name": "stdout",
          "output_type": "stream",
          "text": [
            "Withdraw Successful\n",
            "balance after withdraw:  0\n",
            "________________________________________________________________________________________ \n",
            "\n",
            "Receive Successful\n",
            "New Balance:  2500\n",
            "________________________________________________________________________________________ \n",
            "\n",
            "Transfer Successful\n",
            "________________________________________________________________________________________ \n",
            "\n",
            "Withdraw Successful\n",
            "balance after withdraw:  1700\n",
            "________________________________________________________________________________________ \n",
            "\n",
            "Receive Successful\n",
            "New Balance:  200\n",
            "________________________________________________________________________________________ \n",
            "\n",
            "Transfer Successful\n",
            "________________________________________________________________________________________ \n",
            "\n",
            "Name:  John\n",
            "Balance:  200\n",
            "________________________________________________________________________________________ \n",
            "\n",
            "Name:  Jane\n",
            "Balance:  2500\n",
            "________________________________________________________________________________________ \n",
            "\n",
            "Name:  Bob\n",
            "Balance:  1700\n",
            "________________________________________________________________________________________ \n",
            "\n"
          ]
        }
      ],
      "source": [
        "bank.transferMoney(\"John\", \"Jane\", 1000, \"1234\")\n",
        "bank.transferMoney(\"Bob\", \"John\", 200, \"1234\")\n",
        "\n",
        "bank.bank_summary()"
      ]
    }
  ],
  "metadata": {
    "colab": {
      "provenance": []
    },
    "kernelspec": {
      "display_name": "Python 3",
      "name": "python3"
    },
    "language_info": {
      "codemirror_mode": {
        "name": "ipython",
        "version": 3
      },
      "file_extension": ".py",
      "mimetype": "text/x-python",
      "name": "python",
      "nbconvert_exporter": "python",
      "pygments_lexer": "ipython3",
      "version": "3.10.11"
    }
  },
  "nbformat": 4,
  "nbformat_minor": 0
}
