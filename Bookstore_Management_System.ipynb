{
 "cells": [
  {
   "cell_type": "markdown",
   "id": "68cc00ff",
   "metadata": {},
   "source": [
    "# Bookstore Management System\n",
    "\n",
    "### Objective\n",
    "Develop a program to manage a bookstore using OOP concepts.\n",
    "\n",
    "### Instructions\n",
    "1. Create a `Book` class with the following attributes and methods:\n",
    "   - **Attributes**:\n",
    "     - `title`: Title of the book\n",
    "     - `author`: Author of the book\n",
    "     - `price`: Price of the book\n",
    "     - `stock`: Number of copies available in stock\n",
    "   - **Methods**:\n",
    "     - `__init__`: To initialize the book attributes\n",
    "     - `add_stock`: To add more copies of the book\n",
    "     - `sell`: To sell copies of the book if enough stock is available\n",
    "     - `show_info`: To display book details\n",
    "\n",
    "2. Create a `Bookstore` class with the following attributes and methods:\n",
    "   - **Attributes**:\n",
    "     - `books`: A dictionary to store all books, using `title` as the key\n",
    "   - **Methods**:\n",
    "     - `add_book`: To add a new book to the bookstore\n",
    "     - `search_book`: To find a book by its title\n",
    "     - `sell_book`: To sell a book by title and quantity\n",
    "     - `store_summary`: To display details of all books in the store\n",
    "\n",
    "3. Test the implementation by:\n",
    "   - Adding 3 books to the store\n",
    "   - Selling some books and attempting to sell books not in stock\n",
    "   - Displaying a summary of the bookstore's inventory."
   ]
  },
  {
   "cell_type": "code",
   "execution_count": 106,
   "id": "72bfd24a",
   "metadata": {},
   "outputs": [],
   "source": [
    "class Book:\n",
    "    def __init__(self, title, author, price, stock):\n",
    "        self.title  = title \n",
    "        self.author = author\n",
    "        self.price  = price \n",
    "        self.stock  = stock \n",
    "    \n",
    "    def __str__(self):\n",
    "                return f\"\"\"\n",
    "-----------------------------------------------------\n",
    "title  = {self.title}\n",
    "author = {self.author}\n",
    "price  = {self.price}\n",
    "stock  = {self.stock}\n",
    "-----------------------------------------------------\n",
    "\"\"\"\n",
    "    def add_stock(self, stock):\n",
    "        self.stock += stock\n",
    "        print(\"Add Stock Successful now Stock is : \",self.stock)\n",
    "\n",
    "    def sell(self, stock):\n",
    "        self.stock -= stock\n",
    "        print(\"Sell Successful now Stock is : \",self.stock)\n",
    "\n",
    "    def show_info(self):\n",
    "        print(f\"\"\"\n",
    "-----------------------------------------------------\n",
    "title  = {self.title}\n",
    "author = {self.author}\n",
    "price  = {self.price}\n",
    "stock  = {self.stock}\n",
    "-----------------------------------------------------\n",
    "\"\"\")"
   ]
  },
  {
   "cell_type": "code",
   "execution_count": 107,
   "id": "d33a8145",
   "metadata": {},
   "outputs": [],
   "source": [
    "book1 = Book(\"Python Programming\", \"John Doe\", 279, 20)\n",
    "book2 = Book(\"Why Men Love Bitches\", \"kimmie\", 250, 30)\n",
    "book3 = Book(\"Relations\", \"kimmie\", 20, 30)\n"
   ]
  },
  {
   "cell_type": "code",
   "execution_count": 108,
   "id": "d325e982",
   "metadata": {},
   "outputs": [],
   "source": [
    "class Bookstore:\n",
    "    def __init__(self):\n",
    "        self.book = []\n",
    "\n",
    "    def add_book(self, book):\n",
    "        self.book.append(book)\n",
    "        print(\"Add Successful\")\n",
    "\n",
    "    def search_book(self, title):\n",
    "        for book in self.book:\n",
    "            if book.title == title:\n",
    "                return book\n",
    "        return None\n",
    "    \n",
    "    def sell_book(self, title, stock):\n",
    "        sb = self.search_book(title)\n",
    "        sb.sell(stock)\n",
    "\n",
    "    def store_summary(self):\n",
    "        for book in self.book:\n",
    "            book.show_info()\n"
   ]
  },
  {
   "cell_type": "code",
   "execution_count": 109,
   "id": "e8c60d86",
   "metadata": {},
   "outputs": [
    {
     "name": "stdout",
     "output_type": "stream",
     "text": [
      "Add Successful\n",
      "Add Successful\n",
      "Add Successful\n",
      "\n",
      "-----------------------------------------------------\n",
      "title  = Python Programming\n",
      "author = John Doe\n",
      "price  = 279\n",
      "stock  = 20\n",
      "-----------------------------------------------------\n",
      "\n",
      "\n",
      "-----------------------------------------------------\n",
      "title  = Why Men Love Bitches\n",
      "author = kimmie\n",
      "price  = 250\n",
      "stock  = 30\n",
      "-----------------------------------------------------\n",
      "\n",
      "\n",
      "-----------------------------------------------------\n",
      "title  = Relations\n",
      "author = kimmie\n",
      "price  = 20\n",
      "stock  = 30\n",
      "-----------------------------------------------------\n",
      "\n"
     ]
    }
   ],
   "source": [
    "BS = Bookstore()\n",
    "BS.add_book(book1)\n",
    "BS.add_book(book2)\n",
    "BS.add_book(book3)\n",
    "\n",
    "BS.store_summary()"
   ]
  },
  {
   "cell_type": "code",
   "execution_count": null,
   "id": "25454fb7",
   "metadata": {},
   "outputs": [],
   "source": []
  }
 ],
 "metadata": {
  "kernelspec": {
   "display_name": "Python 3",
   "language": "python",
   "name": "python3"
  },
  "language_info": {
   "codemirror_mode": {
    "name": "ipython",
    "version": 3
   },
   "file_extension": ".py",
   "mimetype": "text/x-python",
   "name": "python",
   "nbconvert_exporter": "python",
   "pygments_lexer": "ipython3",
   "version": "3.10.11"
  }
 },
 "nbformat": 4,
 "nbformat_minor": 5
}
